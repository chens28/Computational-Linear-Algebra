{
 "cells": [
  {
   "cell_type": "markdown",
   "id": "16b49d3e",
   "metadata": {},
   "source": [
    "# Markov Chain Problem - Squirrel"
   ]
  },
  {
   "cell_type": "markdown",
   "id": "034b9ac1",
   "metadata": {},
   "source": [
    "Consider a squirrel trapped in a box divided into\n",
    "9 rooms. This squirrel enjoys an active life style, so every minute, it decides to go through any of\n",
    "the available doors or stay in the current room, where all actions are taken with equal probability.\n",
    "See figure. For example, if the squirrel is in box 1 at time $t$, then at time $t$ + 1, it is in box 1, 2, or 4 with probability 1/3 each. For every minute $t$ = 0, 1, 2, . . . , let $x(t) ∈ R^9$ denote the vector whose $i$-th entry is the probability that the squirrel is in box $i$ at time $t$."
   ]
  },
  {
   "cell_type": "markdown",
   "id": "d6a08538",
   "metadata": {},
   "source": [
    "<img src=\"./S.png\" width=\"100\">"
   ]
  },
  {
   "cell_type": "code",
   "execution_count": 3,
   "id": "55c82cef",
   "metadata": {},
   "outputs": [],
   "source": [
    "import numpy as np"
   ]
  },
  {
   "cell_type": "markdown",
   "id": "53a9caa1",
   "metadata": {},
   "source": [
    "### (a) Find a matrix P such that $x(t + 1) = P x(t)$."
   ]
  },
  {
   "cell_type": "code",
   "execution_count": 4,
   "id": "02a1c77f",
   "metadata": {},
   "outputs": [
    {
     "name": "stdout",
     "output_type": "stream",
     "text": [
      "[0.33 0.33 0.   0.33 0.   0.   0.   0.   0.  ]\n"
     ]
    }
   ],
   "source": [
    "col1 = np.array([1/3,1/3,0,1/3,0,0,0,0,0])\n",
    "print(np.round(col1,2))"
   ]
  },
  {
   "cell_type": "code",
   "execution_count": 5,
   "id": "11dc0df3",
   "metadata": {},
   "outputs": [],
   "source": [
    "col2 = np.array([1/4,1/4,1/4,0,1/4,0,0,0,0])\n",
    "col3 = np.array([0,1/3,1/3,0,0,1/3,0,0,0])\n",
    "col4 = np.array([1/4,0,0,1/4,1/4,0,1/4,0,0])\n",
    "col5 = np.array([0,1/5,0,1/5,1/5,1/5,0,1/5,0])\n",
    "col6 = np.array([0,0,1/4,0,1/4,1/4,0,0,1/4])\n",
    "col7 = np.array([0,0,0,1/3,0,0,1/3,1/3,0])\n",
    "col8 = np.array([0,0,0,0,1/4,0,1/4,1/4,1/4])\n",
    "col9 = np.array([0,0,0,0,0,1/3,0,1/3,1/3])"
   ]
  },
  {
   "cell_type": "code",
   "execution_count": 6,
   "id": "fcaecc9b",
   "metadata": {},
   "outputs": [
    {
     "data": {
      "text/plain": [
       "(9, 9)"
      ]
     },
     "execution_count": 6,
     "metadata": {},
     "output_type": "execute_result"
    }
   ],
   "source": [
    "stacked = np.stack((col1,col2,col3,col4,col5,col6,col7,col8,col9), axis=-1)\n",
    "P = np.matrix(stacked)\n",
    "P.shape"
   ]
  },
  {
   "cell_type": "code",
   "execution_count": 7,
   "id": "1c291b09",
   "metadata": {},
   "outputs": [
    {
     "name": "stdout",
     "output_type": "stream",
     "text": [
      "[[0.33 0.25 0.   0.25 0.   0.   0.   0.   0.  ]\n",
      " [0.33 0.25 0.33 0.   0.2  0.   0.   0.   0.  ]\n",
      " [0.   0.25 0.33 0.   0.   0.25 0.   0.   0.  ]\n",
      " [0.33 0.   0.   0.25 0.2  0.   0.33 0.   0.  ]\n",
      " [0.   0.25 0.   0.25 0.2  0.25 0.   0.25 0.  ]\n",
      " [0.   0.   0.33 0.   0.2  0.25 0.   0.   0.33]\n",
      " [0.   0.   0.   0.25 0.   0.   0.33 0.25 0.  ]\n",
      " [0.   0.   0.   0.   0.2  0.   0.33 0.25 0.33]\n",
      " [0.   0.   0.   0.   0.   0.25 0.   0.25 0.33]]\n"
     ]
    }
   ],
   "source": [
    "print(np.round(P,2))"
   ]
  },
  {
   "cell_type": "markdown",
   "id": "b661617f",
   "metadata": {},
   "source": [
    "P is the above matrix"
   ]
  },
  {
   "cell_type": "markdown",
   "id": "4f6bfc2e",
   "metadata": {},
   "source": [
    "### (b) Can you find an integer $k ≥ 1$ such that all entries of $P^k$ are strictly positive?"
   ]
  },
  {
   "cell_type": "code",
   "execution_count": 8,
   "id": "cad088e7",
   "metadata": {},
   "outputs": [
    {
     "name": "stdout",
     "output_type": "stream",
     "text": [
      "[[0.33 0.25 0.   0.25 0.   0.   0.   0.   0.  ]\n",
      " [0.33 0.25 0.33 0.   0.2  0.   0.   0.   0.  ]\n",
      " [0.   0.25 0.33 0.   0.   0.25 0.   0.   0.  ]\n",
      " [0.33 0.   0.   0.25 0.2  0.   0.33 0.   0.  ]\n",
      " [0.   0.25 0.   0.25 0.2  0.25 0.   0.25 0.  ]\n",
      " [0.   0.   0.33 0.   0.2  0.25 0.   0.   0.33]\n",
      " [0.   0.   0.   0.25 0.   0.   0.33 0.25 0.  ]\n",
      " [0.   0.   0.   0.   0.2  0.   0.33 0.25 0.33]\n",
      " [0.   0.   0.   0.   0.   0.25 0.   0.25 0.33]]\n"
     ]
    }
   ],
   "source": [
    "# k = 1\n",
    "print(np.round(P, 2))"
   ]
  },
  {
   "cell_type": "code",
   "execution_count": 10,
   "id": "31fb6281",
   "metadata": {},
   "outputs": [
    {
     "name": "stdout",
     "output_type": "stream",
     "text": [
      "[[0.28 0.15 0.08 0.15 0.1  0.   0.08 0.   0.  ]\n",
      " [0.19 0.28 0.19 0.13 0.09 0.13 0.   0.05 0.  ]\n",
      " [0.08 0.15 0.28 0.   0.1  0.15 0.   0.   0.08]\n",
      " [0.19 0.13 0.   0.28 0.09 0.05 0.19 0.13 0.  ]\n",
      " [0.17 0.11 0.17 0.11 0.24 0.11 0.17 0.11 0.17]\n",
      " [0.   0.13 0.19 0.05 0.09 0.28 0.   0.13 0.19]\n",
      " [0.08 0.   0.   0.15 0.1  0.   0.28 0.15 0.08]\n",
      " [0.   0.05 0.   0.13 0.09 0.13 0.19 0.28 0.19]\n",
      " [0.   0.   0.08 0.   0.1  0.15 0.08 0.15 0.28]]\n"
     ]
    }
   ],
   "source": [
    "# k = 2\n",
    "print(np.round(np.linalg.matrix_power(P, 2), 2))"
   ]
  },
  {
   "cell_type": "code",
   "execution_count": 12,
   "id": "bbbde646",
   "metadata": {},
   "outputs": [
    {
     "name": "stdout",
     "output_type": "stream",
     "text": [
      "[[0.19 0.15 0.08 0.15 0.08 0.05 0.08 0.05 0.  ]\n",
      " [0.2  0.19 0.2  0.1  0.14 0.1  0.06 0.04 0.06]\n",
      " [0.08 0.15 0.19 0.05 0.08 0.15 0.   0.05 0.08]\n",
      " [0.2  0.1  0.06 0.19 0.14 0.04 0.2  0.1  0.06]\n",
      " [0.13 0.17 0.13 0.17 0.14 0.17 0.13 0.17 0.13]\n",
      " [0.06 0.1  0.2  0.04 0.14 0.19 0.06 0.1  0.2 ]\n",
      " [0.08 0.05 0.   0.15 0.08 0.05 0.19 0.15 0.08]\n",
      " [0.06 0.04 0.06 0.1  0.14 0.1  0.2  0.19 0.2 ]\n",
      " [0.   0.05 0.08 0.05 0.08 0.15 0.08 0.15 0.19]]\n"
     ]
    }
   ],
   "source": [
    "# k = 3\n",
    "print(np.round(np.linalg.matrix_power(P, 3), 2))"
   ]
  },
  {
   "cell_type": "code",
   "execution_count": 14,
   "id": "386d2c79",
   "metadata": {},
   "outputs": [
    {
     "name": "stdout",
     "output_type": "stream",
     "text": [
      "[[0.16 0.12 0.09 0.12 0.09 0.05 0.09 0.05 0.03]\n",
      " [0.17 0.18 0.17 0.13 0.11 0.13 0.07 0.07 0.07]\n",
      " [0.09 0.12 0.16 0.05 0.09 0.12 0.03 0.05 0.09]\n",
      " [0.17 0.13 0.07 0.18 0.11 0.07 0.17 0.13 0.07]\n",
      " [0.16 0.14 0.16 0.14 0.16 0.14 0.16 0.14 0.16]\n",
      " [0.07 0.13 0.17 0.07 0.11 0.18 0.07 0.13 0.17]\n",
      " [0.09 0.05 0.03 0.12 0.09 0.05 0.16 0.12 0.09]\n",
      " [0.07 0.07 0.07 0.13 0.11 0.13 0.17 0.18 0.17]\n",
      " [0.03 0.05 0.09 0.05 0.09 0.12 0.09 0.12 0.16]]\n"
     ]
    }
   ],
   "source": [
    "# k = 4\n",
    "print(np.round(np.linalg.matrix_power(P, 4), 2))"
   ]
  },
  {
   "cell_type": "code",
   "execution_count": 16,
   "id": "e15bfcc9",
   "metadata": {},
   "outputs": [
    {
     "name": "stdout",
     "output_type": "stream",
     "text": [
      "[[ True  True  True  True  True  True  True  True  True]\n",
      " [ True  True  True  True  True  True  True  True  True]\n",
      " [ True  True  True  True  True  True  True  True  True]\n",
      " [ True  True  True  True  True  True  True  True  True]\n",
      " [ True  True  True  True  True  True  True  True  True]\n",
      " [ True  True  True  True  True  True  True  True  True]\n",
      " [ True  True  True  True  True  True  True  True  True]\n",
      " [ True  True  True  True  True  True  True  True  True]\n",
      " [ True  True  True  True  True  True  True  True  True]]\n"
     ]
    }
   ],
   "source": [
    "print(np.linalg.matrix_power(P, 4)>0)"
   ]
  },
  {
   "cell_type": "markdown",
   "id": "e84d76de",
   "metadata": {},
   "source": [
    "when k = 4, $P^k$ are strictly positive"
   ]
  },
  {
   "cell_type": "markdown",
   "id": "992d44fe",
   "metadata": {},
   "source": [
    "### (c) Suppose that at time 0, the squirrel is in room 1. In 10 minutes, what is the probability the squirrel will be in each of the 9 rooms? (That is, if $x(0) = e_1 ∈ R^9$, then compute $x(10)$."
   ]
  },
  {
   "cell_type": "code",
   "execution_count": 17,
   "id": "0ef2fa9a",
   "metadata": {},
   "outputs": [
    {
     "data": {
      "text/plain": [
       "(9, 1)"
      ]
     },
     "execution_count": 17,
     "metadata": {},
     "output_type": "execute_result"
    }
   ],
   "source": [
    "# t = 0\n",
    "stage_0 = np.matrix(np.array([1,0,0,0,0,0,0,0,0])).transpose()\n",
    "stage_0.shape"
   ]
  },
  {
   "cell_type": "code",
   "execution_count": 18,
   "id": "a4884e5e",
   "metadata": {},
   "outputs": [
    {
     "name": "stdout",
     "output_type": "stream",
     "text": [
      "[[0.33]\n",
      " [0.33]\n",
      " [0.  ]\n",
      " [0.33]\n",
      " [0.  ]\n",
      " [0.  ]\n",
      " [0.  ]\n",
      " [0.  ]\n",
      " [0.  ]]\n"
     ]
    }
   ],
   "source": [
    "# t = 1\n",
    "stage_1 = P@stage_0\n",
    "print(np.round(stage_1,2))"
   ]
  },
  {
   "cell_type": "code",
   "execution_count": 19,
   "id": "7243fd7f",
   "metadata": {},
   "outputs": [
    {
     "name": "stdout",
     "output_type": "stream",
     "text": [
      "[[0.278]\n",
      " [0.194]\n",
      " [0.083]\n",
      " [0.194]\n",
      " [0.167]\n",
      " [0.   ]\n",
      " [0.083]\n",
      " [0.   ]\n",
      " [0.   ]]\n"
     ]
    }
   ],
   "source": [
    "# t = 2\n",
    "stage_2 = np.linalg.matrix_power(P, 2)@stage_0\n",
    "print(np.round(stage_2, 3))"
   ]
  },
  {
   "cell_type": "code",
   "execution_count": 20,
   "id": "f47dfc24",
   "metadata": {},
   "outputs": [
    {
     "name": "stdout",
     "output_type": "stream",
     "text": [
      "[[0.099]\n",
      " [0.127]\n",
      " [0.091]\n",
      " [0.127]\n",
      " [0.152]\n",
      " [0.115]\n",
      " [0.091]\n",
      " [0.115]\n",
      " [0.083]]\n"
     ]
    }
   ],
   "source": [
    "# t = 10\n",
    "stage_10 = np.linalg.matrix_power(P, 10)@stage_0\n",
    "print(np.round(stage_10, 3))"
   ]
  },
  {
   "cell_type": "markdown",
   "id": "89f08ffa",
   "metadata": {},
   "source": [
    "The above vector contains the caculated probablity that the squirrel will be in each of the 9 rooms in 10 minutes, respectively."
   ]
  },
  {
   "cell_type": "code",
   "execution_count": 21,
   "id": "a0a3ce96",
   "metadata": {},
   "outputs": [
    {
     "name": "stdout",
     "output_type": "stream",
     "text": [
      "The probability that the squirrel will be in room 0 in 10 minutes is 0.099.\n",
      "The probability that the squirrel will be in room 1 in 10 minutes is 0.127.\n",
      "The probability that the squirrel will be in room 2 in 10 minutes is 0.091.\n",
      "The probability that the squirrel will be in room 3 in 10 minutes is 0.127.\n",
      "The probability that the squirrel will be in room 4 in 10 minutes is 0.152.\n",
      "The probability that the squirrel will be in room 5 in 10 minutes is 0.115.\n",
      "The probability that the squirrel will be in room 6 in 10 minutes is 0.091.\n",
      "The probability that the squirrel will be in room 7 in 10 minutes is 0.115.\n",
      "The probability that the squirrel will be in room 8 in 10 minutes is 0.083.\n"
     ]
    }
   ],
   "source": [
    "l_stage_10 = stage_10.tolist()\n",
    "for i, v in enumerate(l_stage_10):\n",
    "    print(f'The probability that the squirrel will be in room {i} in 10 minutes is {round(v[0], 3)}.')"
   ]
  },
  {
   "cell_type": "markdown",
   "id": "38d27328",
   "metadata": {},
   "source": [
    "### d)  Compute the invariant measure for this problem."
   ]
  },
  {
   "cell_type": "code",
   "execution_count": 22,
   "id": "1bcaf90d",
   "metadata": {},
   "outputs": [
    {
     "name": "stdout",
     "output_type": "stream",
     "text": [
      "[-0.467  1.     0.333  0.25   0.702 -0.119 -0.119  0.702  0.25 ] \n",
      "\n",
      "[[ 0.224 -0.268  0.5    0.256  0.489  0.436  0.252  0.064  0.075]\n",
      " [-0.358 -0.358  0.    -0.043  0.361 -0.394 -0.549 -0.311 -0.49 ]\n",
      " [ 0.224 -0.268 -0.5    0.256  0.    -0.     0.355 -0.485  0.075]\n",
      " [-0.358 -0.358 -0.    -0.043  0.361 -0.394  0.094  0.405  0.465]\n",
      " [ 0.537 -0.447 -0.    -0.854 -0.    -0.    -0.    -0.    -0.251]\n",
      " [-0.358 -0.358 -0.    -0.043 -0.361  0.394 -0.094 -0.405  0.465]\n",
      " [ 0.224 -0.268 -0.5    0.256  0.     0.    -0.355  0.485  0.075]\n",
      " [-0.358 -0.358  0.    -0.043 -0.361  0.394  0.549  0.311 -0.49 ]\n",
      " [ 0.224 -0.268  0.5    0.256 -0.489 -0.436 -0.252 -0.064  0.075]]\n"
     ]
    }
   ],
   "source": [
    "w, v = np.linalg.eig(P)\n",
    "print(np.round(w, 3),\"\\n\")\n",
    "print(np.round(v, 3))"
   ]
  },
  {
   "cell_type": "code",
   "execution_count": 23,
   "id": "35d540ca",
   "metadata": {},
   "outputs": [
    {
     "name": "stdout",
     "output_type": "stream",
     "text": [
      "[[-0.467  0.     0.     0.     0.     0.     0.     0.     0.   ]\n",
      " [ 0.     1.     0.     0.     0.     0.     0.     0.     0.   ]\n",
      " [ 0.     0.     0.333  0.     0.     0.     0.     0.     0.   ]\n",
      " [ 0.     0.     0.     0.25   0.     0.     0.     0.     0.   ]\n",
      " [ 0.     0.     0.     0.     0.702  0.     0.     0.     0.   ]\n",
      " [ 0.     0.     0.     0.     0.    -0.119  0.     0.     0.   ]\n",
      " [ 0.     0.     0.     0.     0.     0.    -0.119  0.     0.   ]\n",
      " [ 0.     0.     0.     0.     0.     0.     0.     0.702  0.   ]\n",
      " [ 0.     0.     0.     0.     0.     0.     0.     0.     0.25 ]]\n"
     ]
    }
   ],
   "source": [
    "D = np.diag(w)\n",
    "print(np.round(D, 3))"
   ]
  },
  {
   "cell_type": "code",
   "execution_count": 24,
   "id": "041a30dd",
   "metadata": {},
   "outputs": [
    {
     "name": "stdout",
     "output_type": "stream",
     "text": [
      "[[0. 0. 0. 0. 0. 0. 0. 0. 0.]\n",
      " [0. 1. 0. 0. 0. 0. 0. 0. 0.]\n",
      " [0. 0. 0. 0. 0. 0. 0. 0. 0.]\n",
      " [0. 0. 0. 0. 0. 0. 0. 0. 0.]\n",
      " [0. 0. 0. 0. 0. 0. 0. 0. 0.]\n",
      " [0. 0. 0. 0. 0. 0. 0. 0. 0.]\n",
      " [0. 0. 0. 0. 0. 0. 0. 0. 0.]\n",
      " [0. 0. 0. 0. 0. 0. 0. 0. 0.]\n",
      " [0. 0. 0. 0. 0. 0. 0. 0. 0.]]\n"
     ]
    }
   ],
   "source": [
    "D_inf = D.copy()\n",
    "# When the power of P gets infinately large, \n",
    "# the factions in the matrix becomes infinately cloase to 0 and drop off\n",
    "D_inf[D<1] = 0\n",
    "print(D_inf)"
   ]
  },
  {
   "cell_type": "code",
   "execution_count": 25,
   "id": "ee01ce0a",
   "metadata": {
    "scrolled": true
   },
   "outputs": [
    {
     "name": "stdout",
     "output_type": "stream",
     "text": [
      "[[ 1. -0. -0.  0. -0. -0. -0. -0. -0.]\n",
      " [ 0.  1. -0.  0. -0.  0. -0.  0.  0.]\n",
      " [ 0.  0.  1. -0. -0. -0.  0.  0.  0.]\n",
      " [ 0.  0. -0.  1. -0.  0.  0. -0. -0.]\n",
      " [ 0. -0.  0. -0.  1.  0.  0.  0. -0.]\n",
      " [ 0. -0. -0. -0. -0.  1. -0.  0.  0.]\n",
      " [-0. -0. -0. -0.  0.  0.  1. -0. -0.]\n",
      " [-0. -0. -0.  0.  0.  0.  0.  1.  0.]\n",
      " [-0. -0.  0.  0. -0. -0. -0.  0.  1.]]\n"
     ]
    }
   ],
   "source": [
    "U = v\n",
    "U_inv = np.linalg.inv(U)\n",
    "print(np.round(U@U_inv, 2))"
   ]
  },
  {
   "cell_type": "code",
   "execution_count": 26,
   "id": "8eaa8a1e",
   "metadata": {},
   "outputs": [
    {
     "name": "stdout",
     "output_type": "stream",
     "text": [
      "[[0.091]\n",
      " [0.121]\n",
      " [0.091]\n",
      " [0.121]\n",
      " [0.152]\n",
      " [0.121]\n",
      " [0.091]\n",
      " [0.121]\n",
      " [0.091]]\n"
     ]
    }
   ],
   "source": [
    "stage_n = U@D_inf@U_inv@stage_0\n",
    "print(np.round(stage_n, 3))"
   ]
  },
  {
   "cell_type": "code",
   "execution_count": 27,
   "id": "7c818e59",
   "metadata": {},
   "outputs": [
    {
     "name": "stdout",
     "output_type": "stream",
     "text": [
      "[[0.091]\n",
      " [0.121]\n",
      " [0.091]\n",
      " [0.121]\n",
      " [0.152]\n",
      " [0.121]\n",
      " [0.091]\n",
      " [0.121]\n",
      " [0.091]]\n"
     ]
    }
   ],
   "source": [
    "# Verify that u = Pu\n",
    "print(np.round(P@stage_n, 3))"
   ]
  },
  {
   "cell_type": "markdown",
   "id": "56699932",
   "metadata": {},
   "source": [
    "The above vector is the invariant measure for Matrix P in this problem."
   ]
  },
  {
   "cell_type": "markdown",
   "id": "6545e921",
   "metadata": {},
   "source": [
    "### e) You plan to check the box in 10 years to see your old friend, this squirrel. Which room should you arrive in so as to maximize the probability that when you arrive, the squirrel is in the same room?"
   ]
  },
  {
   "cell_type": "code",
   "execution_count": 22,
   "id": "3d0fcd24",
   "metadata": {},
   "outputs": [
    {
     "name": "stdout",
     "output_type": "stream",
     "text": [
      "5\n"
     ]
    }
   ],
   "source": [
    "print(np.argmax(stage_n) + 1)"
   ]
  },
  {
   "cell_type": "markdown",
   "id": "08285ba5",
   "metadata": {},
   "source": [
    "Room 5 is the room I should arrive in because it yields the highest probablity in the invariant measure and is the room with the highest probablity that the squirrel will be in."
   ]
  },
  {
   "cell_type": "code",
   "execution_count": null,
   "id": "194fef37",
   "metadata": {},
   "outputs": [],
   "source": []
  }
 ],
 "metadata": {
  "kernelspec": {
   "display_name": "Python 3 (ipykernel)",
   "language": "python",
   "name": "python3"
  },
  "language_info": {
   "codemirror_mode": {
    "name": "ipython",
    "version": 3
   },
   "file_extension": ".py",
   "mimetype": "text/x-python",
   "name": "python",
   "nbconvert_exporter": "python",
   "pygments_lexer": "ipython3",
   "version": "3.9.12"
  }
 },
 "nbformat": 4,
 "nbformat_minor": 5
}
